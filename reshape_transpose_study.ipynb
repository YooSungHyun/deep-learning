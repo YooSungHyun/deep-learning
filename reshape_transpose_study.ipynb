{
 "cells": [
  {
   "cell_type": "code",
   "execution_count": 1,
   "metadata": {},
   "outputs": [],
   "source": [
    "# https://stackoverflow.com/questions/49643225/whats-the-difference-between-reshape-and-view-in-pytorch\n",
    "# https://inmoonlight.github.io/2021/03/03/PyTorch-view-transpose-reshape/\n",
    "import torch"
   ]
  },
  {
   "cell_type": "code",
   "execution_count": 46,
   "metadata": {},
   "outputs": [
    {
     "name": "stdout",
     "output_type": "stream",
     "text": [
      "tensor([[[ 0,  1],\n",
      "         [ 2,  3],\n",
      "         [ 4,  5]],\n",
      "\n",
      "        [[ 6,  7],\n",
      "         [ 8,  9],\n",
      "         [10, 11]],\n",
      "\n",
      "        [[12, 13],\n",
      "         [14, 15],\n",
      "         [16, 17]],\n",
      "\n",
      "        [[18, 19],\n",
      "         [20, 21],\n",
      "         [22, 23]]])\n"
     ]
    }
   ],
   "source": [
    "# 3차원에서 실험해볼때 예시\n",
    "t = torch.tensor(\n",
    "    [\n",
    "        [[0, 1], [2, 3], [4, 5]],\n",
    "        [[6, 7], [8, 9], [10, 11]],\n",
    "        [[12, 13], [14, 15], [16, 17]],\n",
    "        [[18, 19], [20, 21], [22, 23]],\n",
    "    ]\n",
    ")  # (4, 3, 2)\n",
    "print(t)"
   ]
  },
  {
   "cell_type": "code",
   "execution_count": 10,
   "metadata": {},
   "outputs": [
    {
     "name": "stdout",
     "output_type": "stream",
     "text": [
      "tensor([[[ 0,  1,  2],\n",
      "         [ 3,  4,  5]],\n",
      "\n",
      "        [[ 6,  7,  8],\n",
      "         [ 9, 10, 11]],\n",
      "\n",
      "        [[12, 13, 14],\n",
      "         [15, 16, 17]],\n",
      "\n",
      "        [[18, 19, 20],\n",
      "         [21, 22, 23]]])\n"
     ]
    }
   ],
   "source": [
    "# view는 차원을 뒤틀어서 눕히는 것이 아니고, 그냥 연속된 차원 맞추기 일 뿐이다.\n",
    "tv = t.view(4, 2, 3)\n",
    "print(tv)"
   ]
  },
  {
   "cell_type": "code",
   "execution_count": 12,
   "metadata": {},
   "outputs": [
    {
     "data": {
      "text/plain": [
       "True"
      ]
     },
     "execution_count": 12,
     "metadata": {},
     "output_type": "execute_result"
    }
   ],
   "source": [
    "tv.is_contiguous()"
   ]
  },
  {
   "cell_type": "code",
   "execution_count": 16,
   "metadata": {},
   "outputs": [
    {
     "name": "stdout",
     "output_type": "stream",
     "text": [
      "tensor([ 0,  1,  2,  3,  4,  5,  6,  7,  8,  9, 10, 11, 12, 13, 14, 15, 16, 17,\n",
      "        18, 19, 20, 21, 22, 23])\n",
      "tensor([ 0,  1,  2,  3,  4,  5,  6,  7,  8,  9, 10, 11, 12, 13, 14, 15, 16, 17,\n",
      "        18, 19, 20, 21, 22, 23])\n",
      "tensor([True, True, True, True, True, True, True, True, True, True, True, True,\n",
      "        True, True, True, True, True, True, True, True, True, True, True, True])\n"
     ]
    }
   ],
   "source": [
    "print(t.flatten())\n",
    "print(tv.flatten())\n",
    "print(t.flatten() == tv.flatten())"
   ]
  },
  {
   "cell_type": "code",
   "execution_count": 22,
   "metadata": {},
   "outputs": [
    {
     "data": {
      "text/plain": [
       "True"
      ]
     },
     "execution_count": 22,
     "metadata": {},
     "output_type": "execute_result"
    }
   ],
   "source": [
    "# 저장 포인터까지 동일하여, shallow copy 효과가 날 것이다.\n",
    "t.untyped_storage().data_ptr() == tv.untyped_storage().data_ptr()"
   ]
  },
  {
   "cell_type": "code",
   "execution_count": 24,
   "metadata": {},
   "outputs": [
    {
     "name": "stdout",
     "output_type": "stream",
     "text": [
      "tensor([[[ 0,  2,  4],\n",
      "         [ 1,  3,  5]],\n",
      "\n",
      "        [[ 6,  8, 10],\n",
      "         [ 7,  9, 11]],\n",
      "\n",
      "        [[12, 14, 16],\n",
      "         [13, 15, 17]],\n",
      "\n",
      "        [[18, 20, 22],\n",
      "         [19, 21, 23]]])\n"
     ]
    }
   ],
   "source": [
    "# transpose는 배열 자체를 눕히고 돌린다 (회전?)\n",
    "tt = t.transpose(2, 1)\n",
    "print(tt)"
   ]
  },
  {
   "cell_type": "code",
   "execution_count": 42,
   "metadata": {},
   "outputs": [],
   "source": [
    "# 2차원으로 예시 해보기\n",
    "test = torch.arange(8).reshape(4,2)"
   ]
  },
  {
   "cell_type": "code",
   "execution_count": 43,
   "metadata": {},
   "outputs": [
    {
     "name": "stdout",
     "output_type": "stream",
     "text": [
      "tensor([[0, 1],\n",
      "        [2, 3],\n",
      "        [4, 5],\n",
      "        [6, 7]])\n"
     ]
    }
   ],
   "source": [
    "print(test)"
   ]
  },
  {
   "cell_type": "code",
   "execution_count": 45,
   "metadata": {},
   "outputs": [
    {
     "name": "stdout",
     "output_type": "stream",
     "text": [
      "transpose:  tensor([[0, 2, 4, 6],\n",
      "        [1, 3, 5, 7]])\n",
      "reshape:  tensor([[0, 1, 2, 3],\n",
      "        [4, 5, 6, 7]])\n",
      "view:  tensor([[0, 1, 2, 3],\n",
      "        [4, 5, 6, 7]])\n"
     ]
    }
   ],
   "source": [
    "print(\"transpose: \", test.transpose(0,1))\n",
    "print(\"reshape: \", test.reshape(2,-1))\n",
    "print(\"view: \", test.view(2,-1))"
   ]
  },
  {
   "cell_type": "code",
   "execution_count": 41,
   "metadata": {},
   "outputs": [
    {
     "data": {
      "text/plain": [
       "True"
      ]
     },
     "execution_count": 41,
     "metadata": {},
     "output_type": "execute_result"
    }
   ],
   "source": [
    "test.reshape(4,-1).is_contiguous()"
   ]
  }
 ],
 "metadata": {
  "kernelspec": {
   "display_name": ".venv",
   "language": "python",
   "name": "python3"
  },
  "language_info": {
   "codemirror_mode": {
    "name": "ipython",
    "version": 3
   },
   "file_extension": ".py",
   "mimetype": "text/x-python",
   "name": "python",
   "nbconvert_exporter": "python",
   "pygments_lexer": "ipython3",
   "version": "3.10.12"
  },
  "orig_nbformat": 4
 },
 "nbformat": 4,
 "nbformat_minor": 2
}
